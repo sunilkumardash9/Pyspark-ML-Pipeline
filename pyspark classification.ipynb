{
 "cells": [
  {
   "cell_type": "code",
   "execution_count": 60,
   "metadata": {},
   "outputs": [],
   "source": [
    "from pyspark.sql import SparkSession\n",
    "import pandas as pd\n",
    "import matplotlib.pyplot as plt\n",
    "import seaborn as sns\n",
    "from pyspark.sql import SQLContext"
   ]
  },
  {
   "cell_type": "code",
   "execution_count": 5,
   "metadata": {},
   "outputs": [],
   "source": [
    "sc = SparkSession \\\n",
    "     .builder \\\n",
    "     .appName('classification with pyspark') \\\n",
    "     .config(\"spark.some.config.option\", \"some-value\") \\\n",
    "     .getOrCreate()"
   ]
  },
  {
   "cell_type": "code",
   "execution_count": 39,
   "metadata": {},
   "outputs": [
    {
     "data": {
      "text/plain": [
       "Row(species='Adelie', island='Torgersen', culmen_length_mm='39.1', culmen_depth_mm='18.7', flipper_length_mm='181', body_mass_g='3750', sex='MALE')"
      ]
     },
     "execution_count": 39,
     "metadata": {},
     "output_type": "execute_result"
    }
   ],
   "source": [
    "dt = sc.read.csv('D:\\Data Sets\\penguins_size.csv',  header=True)\n",
    "dt.head()"
   ]
  },
  {
   "cell_type": "code",
   "execution_count": 42,
   "metadata": {},
   "outputs": [
    {
     "name": "stdout",
     "output_type": "stream",
     "text": [
      "+-------+---------+----------------+---------------+-----------------+-----------+------+\n",
      "|species|   island|culmen_length_mm|culmen_depth_mm|flipper_length_mm|body_mass_g|   sex|\n",
      "+-------+---------+----------------+---------------+-----------------+-----------+------+\n",
      "| Adelie|Torgersen|            39.1|           18.7|              181|       3750|  MALE|\n",
      "| Adelie|Torgersen|            39.5|           17.4|              186|       3800|FEMALE|\n",
      "| Adelie|Torgersen|            40.3|             18|              195|       3250|FEMALE|\n",
      "| Adelie|Torgersen|              NA|             NA|               NA|         NA|    NA|\n",
      "| Adelie|Torgersen|            36.7|           19.3|              193|       3450|FEMALE|\n",
      "+-------+---------+----------------+---------------+-----------------+-----------+------+\n",
      "only showing top 5 rows\n",
      "\n"
     ]
    }
   ],
   "source": [
    "dt.show(5)"
   ]
  },
  {
   "cell_type": "code",
   "execution_count": 79,
   "metadata": {},
   "outputs": [
    {
     "name": "stdout",
     "output_type": "stream",
     "text": [
      "root\n",
      " |-- species: string (nullable = true)\n",
      " |-- island: string (nullable = true)\n",
      " |-- culmen_length_mm: string (nullable = true)\n",
      " |-- culmen_depth_mm: string (nullable = true)\n",
      " |-- flipper_length_mm: string (nullable = true)\n",
      " |-- body_mass_g: string (nullable = true)\n",
      " |-- sex: string (nullable = true)\n",
      "\n"
     ]
    }
   ],
   "source": [
    "dt.printSchema()"
   ]
  },
  {
   "cell_type": "markdown",
   "metadata": {},
   "source": [
    "Changing the data type of columns culmen_length, culmen depth, flipper length and body mass index to float and integer"
   ]
  },
  {
   "cell_type": "code",
   "execution_count": 147,
   "metadata": {},
   "outputs": [],
   "source": [
    "from pyspark.sql.types import IntegerType, FloatType\n",
    "\n",
    "#dt.withColumn(\"age\",df.age.cast(IntegerType()))\n",
    "\n",
    "df = dt.withColumn(\"culmen_depth_mm\",dt.culmen_depth_mm.cast(FloatType()))\\\n",
    "                   .withColumn(\"culmen_length_mm\",dt.culmen_length_mm.cast(FloatType()))\\\n",
    "                    .withColumn(\"flipper_length_mm\",dt.flipper_length_mm.cast('float'))\\\n",
    "                     .withColumn(\"body_mass_g\",dt.body_mass_g.cast('int'))"
   ]
  },
  {
   "cell_type": "code",
   "execution_count": 148,
   "metadata": {},
   "outputs": [
    {
     "name": "stdout",
     "output_type": "stream",
     "text": [
      "root\n",
      " |-- species: string (nullable = true)\n",
      " |-- island: string (nullable = true)\n",
      " |-- culmen_length_mm: float (nullable = true)\n",
      " |-- culmen_depth_mm: float (nullable = true)\n",
      " |-- flipper_length_mm: float (nullable = true)\n",
      " |-- body_mass_g: integer (nullable = true)\n",
      " |-- sex: string (nullable = true)\n",
      "\n"
     ]
    }
   ],
   "source": [
    "df.printSchema()"
   ]
  },
  {
   "cell_type": "markdown",
   "metadata": {},
   "source": [
    "finding null values in columns"
   ]
  },
  {
   "cell_type": "code",
   "execution_count": 110,
   "metadata": {},
   "outputs": [
    {
     "name": "stdout",
     "output_type": "stream",
     "text": [
      "+-------+---------+----------------+---------------+-----------------+-----------+---+-----------------+\n",
      "|species|   island|culmen_length_mm|culmen_depth_mm|flipper_length_mm|body_mass_g|sex|body_mass_index_g|\n",
      "+-------+---------+----------------+---------------+-----------------+-----------+---+-----------------+\n",
      "| Adelie|Torgersen|            null|           null|             null|         NA| NA|             null|\n",
      "| Adelie|Torgersen|            34.1|           18.1|            193.0|       3475| NA|             3475|\n",
      "| Adelie|Torgersen|            42.0|           20.2|            190.0|       4250| NA|             4250|\n",
      "| Adelie|Torgersen|            37.8|           17.1|            186.0|       3300| NA|             3300|\n",
      "| Adelie|Torgersen|            37.8|           17.3|            180.0|       3700| NA|             3700|\n",
      "| Adelie|    Dream|            37.5|           18.9|            179.0|       2975| NA|             2975|\n",
      "| Gentoo|   Biscoe|            44.5|           14.3|            216.0|       4100| NA|             4100|\n",
      "| Gentoo|   Biscoe|            46.2|           14.4|            214.0|       4650| NA|             4650|\n",
      "| Gentoo|   Biscoe|            47.3|           13.8|            216.0|       4725| NA|             4725|\n",
      "| Gentoo|   Biscoe|            null|           null|             null|         NA| NA|             null|\n",
      "+-------+---------+----------------+---------------+-----------------+-----------+---+-----------------+\n",
      "\n"
     ]
    }
   ],
   "source": [
    "df.filter(df.sex.contains('NA')).show()"
   ]
  },
  {
   "cell_type": "code",
   "execution_count": 106,
   "metadata": {},
   "outputs": [
    {
     "name": "stdout",
     "output_type": "stream",
     "text": [
      "+-------+------+----------------+---------------+-----------------+-----------+---+-----------------+\n",
      "|species|island|culmen_length_mm|culmen_depth_mm|flipper_length_mm|body_mass_g|sex|body_mass_index_g|\n",
      "+-------+------+----------------+---------------+-----------------+-----------+---+-----------------+\n",
      "|      0|     0|               2|              2|                2|          2| 10|                2|\n",
      "+-------+------+----------------+---------------+-----------------+-----------+---+-----------------+\n",
      "\n"
     ]
    }
   ],
   "source": [
    "from pyspark.sql.functions import col,isnan, when, count\n",
    "df.select([count(when(isnan(c) | col(c).isNull() | col(c).contains('NA'), c)).alias(c) for c in df.columns]).show()"
   ]
  },
  {
   "cell_type": "code",
   "execution_count": 118,
   "metadata": {},
   "outputs": [
    {
     "name": "stdout",
     "output_type": "stream",
     "text": [
      "+-------+---------+----------------+---------------+-----------------+-----------+------+-----------------+\n",
      "|species|   island|culmen_length_mm|culmen_depth_mm|flipper_length_mm|body_mass_g|   sex|body_mass_index_g|\n",
      "+-------+---------+----------------+---------------+-----------------+-----------+------+-----------------+\n",
      "| Adelie|Torgersen|            39.1|           18.7|            181.0|       3750|  MALE|             3750|\n",
      "| Adelie|Torgersen|            39.5|           17.4|            186.0|       3800|FEMALE|             3800|\n",
      "| Adelie|Torgersen|            40.3|           18.0|            195.0|       3250|FEMALE|             3250|\n",
      "| Adelie|Torgersen|            null|           null|             null|         NA|    NA|             null|\n",
      "| Adelie|Torgersen|            36.7|           19.3|            193.0|       3450|FEMALE|             3450|\n",
      "| Adelie|Torgersen|            39.3|           20.6|            190.0|       3650|  MALE|             3650|\n",
      "| Adelie|Torgersen|            38.9|           17.8|            181.0|       3625|FEMALE|             3625|\n",
      "| Adelie|Torgersen|            39.2|           19.6|            195.0|       4675|  MALE|             4675|\n",
      "| Adelie|Torgersen|            34.1|           18.1|            193.0|       3475|    NA|             3475|\n",
      "| Adelie|Torgersen|            42.0|           20.2|            190.0|       4250|    NA|             4250|\n",
      "| Adelie|Torgersen|            37.8|           17.1|            186.0|       3300|    NA|             3300|\n",
      "| Adelie|Torgersen|            37.8|           17.3|            180.0|       3700|    NA|             3700|\n",
      "| Adelie|Torgersen|            41.1|           17.6|            182.0|       3200|FEMALE|             3200|\n",
      "| Adelie|Torgersen|            38.6|           21.2|            191.0|       3800|  MALE|             3800|\n",
      "| Adelie|Torgersen|            34.6|           21.1|            198.0|       4400|  MALE|             4400|\n",
      "| Adelie|Torgersen|            36.6|           17.8|            185.0|       3700|FEMALE|             3700|\n",
      "| Adelie|Torgersen|            38.7|           19.0|            195.0|       3450|FEMALE|             3450|\n",
      "| Adelie|Torgersen|            42.5|           20.7|            197.0|       4500|  MALE|             4500|\n",
      "| Adelie|Torgersen|            34.4|           18.4|            184.0|       3325|FEMALE|             3325|\n",
      "| Adelie|Torgersen|            46.0|           21.5|            194.0|       4200|  MALE|             4200|\n",
      "+-------+---------+----------------+---------------+-----------------+-----------+------+-----------------+\n",
      "only showing top 20 rows\n",
      "\n"
     ]
    }
   ],
   "source": [
    "df.show()"
   ]
  },
  {
   "cell_type": "code",
   "execution_count": 121,
   "metadata": {},
   "outputs": [
    {
     "data": {
      "text/plain": [
       "DataFrame[species: string, island: string, culmen_length_mm: float, culmen_depth_mm: float, flipper_length_mm: float, body_mass_g: string, sex: string, body_mass_index_g: int]"
      ]
     },
     "execution_count": 121,
     "metadata": {},
     "output_type": "execute_result"
    }
   ],
   "source": [
    "df.dropna().show()"
   ]
  },
  {
   "cell_type": "code",
   "execution_count": 124,
   "metadata": {},
   "outputs": [
    {
     "name": "stdout",
     "output_type": "stream",
     "text": [
      "+-------+---------+----------------+---------------+-----------------+-----------+---+-----------------+\n",
      "|species|   island|culmen_length_mm|culmen_depth_mm|flipper_length_mm|body_mass_g|sex|body_mass_index_g|\n",
      "+-------+---------+----------------+---------------+-----------------+-----------+---+-----------------+\n",
      "| Adelie|Torgersen|            null|           null|             null|         NA| NA|             null|\n",
      "| Adelie|Torgersen|            34.1|           18.1|            193.0|       3475| NA|             3475|\n",
      "| Adelie|Torgersen|            42.0|           20.2|            190.0|       4250| NA|             4250|\n",
      "| Adelie|Torgersen|            37.8|           17.1|            186.0|       3300| NA|             3300|\n",
      "| Adelie|Torgersen|            37.8|           17.3|            180.0|       3700| NA|             3700|\n",
      "| Adelie|    Dream|            37.5|           18.9|            179.0|       2975| NA|             2975|\n",
      "| Gentoo|   Biscoe|            44.5|           14.3|            216.0|       4100| NA|             4100|\n",
      "| Gentoo|   Biscoe|            46.2|           14.4|            214.0|       4650| NA|             4650|\n",
      "| Gentoo|   Biscoe|            47.3|           13.8|            216.0|       4725| NA|             4725|\n",
      "| Gentoo|   Biscoe|            null|           null|             null|         NA| NA|             null|\n",
      "+-------+---------+----------------+---------------+-----------------+-----------+---+-----------------+\n",
      "\n"
     ]
    }
   ],
   "source": [
    "df.where(col('sex').contains('NA')).show()"
   ]
  },
  {
   "cell_type": "code",
   "execution_count": 149,
   "metadata": {},
   "outputs": [
    {
     "name": "stdout",
     "output_type": "stream",
     "text": [
      "+-------+---------+----------------+---------------+-----------------+-----------+------+\n",
      "|species|   island|culmen_length_mm|culmen_depth_mm|flipper_length_mm|body_mass_g|   sex|\n",
      "+-------+---------+----------------+---------------+-----------------+-----------+------+\n",
      "| Adelie|Torgersen|            39.1|           18.7|            181.0|       3750|  MALE|\n",
      "| Adelie|Torgersen|            39.5|           17.4|            186.0|       3800|FEMALE|\n",
      "| Adelie|Torgersen|            40.3|           18.0|            195.0|       3250|FEMALE|\n",
      "| Adelie|Torgersen|            36.7|           19.3|            193.0|       3450|FEMALE|\n",
      "| Adelie|Torgersen|            39.3|           20.6|            190.0|       3650|  MALE|\n",
      "| Adelie|Torgersen|            38.9|           17.8|            181.0|       3625|FEMALE|\n",
      "| Adelie|Torgersen|            39.2|           19.6|            195.0|       4675|  MALE|\n",
      "| Adelie|Torgersen|            41.1|           17.6|            182.0|       3200|FEMALE|\n",
      "| Adelie|Torgersen|            38.6|           21.2|            191.0|       3800|  MALE|\n",
      "| Adelie|Torgersen|            34.6|           21.1|            198.0|       4400|  MALE|\n",
      "+-------+---------+----------------+---------------+-----------------+-----------+------+\n",
      "only showing top 10 rows\n",
      "\n"
     ]
    }
   ],
   "source": [
    "df_new = df.where(df.sex != 'NA')\n",
    "df_new.show(10)"
   ]
  },
  {
   "cell_type": "markdown",
   "metadata": {},
   "source": [
    "Encode the categorical variables"
   ]
  },
  {
   "cell_type": "code",
   "execution_count": 164,
   "metadata": {},
   "outputs": [],
   "source": [
    "from collections import defaultdict\n",
    "data_types = defaultdict(list)\n",
    "for entry in df.schema.fields:\n",
    "  data_types[str(entry.dataType)].append(entry.name)"
   ]
  },
  {
   "cell_type": "code",
   "execution_count": 165,
   "metadata": {},
   "outputs": [
    {
     "data": {
      "text/plain": [
       "defaultdict(list,\n",
       "            {'StringType': ['species', 'island', 'sex'],\n",
       "             'FloatType': ['culmen_length_mm',\n",
       "              'culmen_depth_mm',\n",
       "              'flipper_length_mm'],\n",
       "             'IntegerType': ['body_mass_g']})"
      ]
     },
     "execution_count": 165,
     "metadata": {},
     "output_type": "execute_result"
    }
   ],
   "source": [
    "data_types"
   ]
  },
  {
   "cell_type": "code",
   "execution_count": 170,
   "metadata": {},
   "outputs": [
    {
     "data": {
      "text/plain": [
       "['species', 'island', 'sex']"
      ]
     },
     "execution_count": 170,
     "metadata": {},
     "output_type": "execute_result"
    }
   ],
   "source": [
    "cat_cols = [var for var in data_types[\"StringType\"]]\n",
    "cat_cols"
   ]
  },
  {
   "cell_type": "code",
   "execution_count": 199,
   "metadata": {},
   "outputs": [],
   "source": [
    "from pyspark.ml.feature import StringIndexer, OneHotEncoder,StandardScaler\n",
    "stage_string_index = [StringIndexer(inputCol=col, outputCol=col+' string_indexed') for col in cat_cols]\n",
    "stage_onehot_enc =   [OneHotEncoder(inputCol=col+' string_indexed', outputCol=col+' onehot_enc') for col in cat_cols]\n"
   ]
  },
  {
   "cell_type": "code",
   "execution_count": 200,
   "metadata": {},
   "outputs": [
    {
     "name": "stdout",
     "output_type": "stream",
     "text": [
      "+-------+---------+----------------+---------------+-----------------+-----------+------+----------------------+---------------------+------------------+------------------+-----------------+--------------+\n",
      "|species|   island|culmen_length_mm|culmen_depth_mm|flipper_length_mm|body_mass_g|   sex|species string_indexed|island string_indexed|sex string_indexed|species onehot_enc|island onehot_enc|sex onehot_enc|\n",
      "+-------+---------+----------------+---------------+-----------------+-----------+------+----------------------+---------------------+------------------+------------------+-----------------+--------------+\n",
      "| Adelie|Torgersen|            39.1|           18.7|            181.0|       3750|  MALE|                   0.0|                  2.0|               0.0|     (2,[0],[1.0])|        (2,[],[])| (2,[0],[1.0])|\n",
      "| Adelie|Torgersen|            39.5|           17.4|            186.0|       3800|FEMALE|                   0.0|                  2.0|               1.0|     (2,[0],[1.0])|        (2,[],[])| (2,[1],[1.0])|\n",
      "| Adelie|Torgersen|            40.3|           18.0|            195.0|       3250|FEMALE|                   0.0|                  2.0|               1.0|     (2,[0],[1.0])|        (2,[],[])| (2,[1],[1.0])|\n",
      "| Adelie|Torgersen|            36.7|           19.3|            193.0|       3450|FEMALE|                   0.0|                  2.0|               1.0|     (2,[0],[1.0])|        (2,[],[])| (2,[1],[1.0])|\n",
      "| Adelie|Torgersen|            39.3|           20.6|            190.0|       3650|  MALE|                   0.0|                  2.0|               0.0|     (2,[0],[1.0])|        (2,[],[])| (2,[0],[1.0])|\n",
      "| Adelie|Torgersen|            38.9|           17.8|            181.0|       3625|FEMALE|                   0.0|                  2.0|               1.0|     (2,[0],[1.0])|        (2,[],[])| (2,[1],[1.0])|\n",
      "| Adelie|Torgersen|            39.2|           19.6|            195.0|       4675|  MALE|                   0.0|                  2.0|               0.0|     (2,[0],[1.0])|        (2,[],[])| (2,[0],[1.0])|\n",
      "| Adelie|Torgersen|            41.1|           17.6|            182.0|       3200|FEMALE|                   0.0|                  2.0|               1.0|     (2,[0],[1.0])|        (2,[],[])| (2,[1],[1.0])|\n",
      "| Adelie|Torgersen|            38.6|           21.2|            191.0|       3800|  MALE|                   0.0|                  2.0|               0.0|     (2,[0],[1.0])|        (2,[],[])| (2,[0],[1.0])|\n",
      "| Adelie|Torgersen|            34.6|           21.1|            198.0|       4400|  MALE|                   0.0|                  2.0|               0.0|     (2,[0],[1.0])|        (2,[],[])| (2,[0],[1.0])|\n",
      "+-------+---------+----------------+---------------+-----------------+-----------+------+----------------------+---------------------+------------------+------------------+-----------------+--------------+\n",
      "only showing top 10 rows\n",
      "\n"
     ]
    }
   ],
   "source": [
    "from pyspark.ml import Pipeline\n",
    "ppl = Pipeline(stages= stage_string_index + stage_onehot_enc)\n",
    "df_trans = ppl.fit(df_new).transform(df_new)\n",
    "df_trans.show(10)"
   ]
  },
  {
   "cell_type": "markdown",
   "metadata": {},
   "source": [
    "Scaling numerical data "
   ]
  },
  {
   "cell_type": "code",
   "execution_count": null,
   "metadata": {},
   "outputs": [],
   "source": [
    "from pyspark.ml.feature import StandardScaler, VectorAssembler\n",
    "assembler = [VectorAssembler(inputCols=[col], outputCol=col+'_vec') for col in ['culmen_length_mm','culmen_depth_mm','flipper_length_mm','body_mass_g']]\n",
    "\n",
    "scale = [StandardScaler(inputCol=col+'_vec', outputCol=col+'_scaled') for col in ['culmen_length_mm','culmen_depth_mm','flipper_length_mm','body_mass_g']]\n",
    "\n",
    "pipe = Pipeline(stages = assembler + scale)\n",
    "\n",
    "df_scale = pipe.fit(df_trans).transform(df_trans)\n",
    "\n",
    "#df_scale.show(5)"
   ]
  },
  {
   "cell_type": "code",
   "execution_count": 223,
   "metadata": {},
   "outputs": [
    {
     "data": {
      "text/plain": [
       "0.0    146\n",
       "1.0    120\n",
       "2.0     68\n",
       "Name: species string_indexed, dtype: int64"
      ]
     },
     "execution_count": 223,
     "metadata": {},
     "output_type": "execute_result"
    }
   ],
   "source": [
    "df_scale.toPandas()['species string_indexed']"
   ]
  },
  {
   "cell_type": "code",
   "execution_count": 224,
   "metadata": {},
   "outputs": [],
   "source": [
    "train_set, test_set =df_scale.randomSplit([0.80,0.20])"
   ]
  },
  {
   "cell_type": "code",
   "execution_count": 271,
   "metadata": {},
   "outputs": [],
   "source": [
    "from pyspark.ml.classification import LogisticRegression, RandomForestClassifier\n",
    "\n",
    "\n",
    "\n",
    "features = VectorAssembler(inputCols=[ 'island onehot_enc', 'sex onehot_enc',\n",
    "                                        'culmen_length_mm_scaled','culmen_depth_mm_scaled','flipper_length_mm_scaled',\n",
    "                                         'body_mass_g_scaled'], outputCol='features')\n",
    "\n",
    "model = LogisticRegression(featuresCol='features', labelCol= 'species string_indexed')\n",
    "\n",
    "pipe_lr = Pipeline(stages = [features, model])\n",
    "model_fit = pipe_lr.fit(train_set)"
   ]
  },
  {
   "cell_type": "code",
   "execution_count": 272,
   "metadata": {},
   "outputs": [
    {
     "data": {
      "text/plain": [
       "DenseVector([0.0, 0.0, 1.0, 0.0, 7.1605, 9.5025, 12.9081, 4.6593])"
      ]
     },
     "execution_count": 272,
     "metadata": {},
     "output_type": "execute_result"
    }
   ],
   "source": [
    "features.transform(df_scale).toPandas()['features'][0]"
   ]
  },
  {
   "cell_type": "code",
   "execution_count": 269,
   "metadata": {},
   "outputs": [],
   "source": [
    "test = test_set.select([ 'island onehot_enc', 'sex onehot_enc',\n",
    "                                        'culmen_length_mm_scaled','culmen_depth_mm_scaled','flipper_length_mm_scaled',\n",
    "                                         'body_mass_g_scaled'])"
   ]
  },
  {
   "cell_type": "code",
   "execution_count": null,
   "metadata": {},
   "outputs": [],
   "source": [
    "from pyspark.mllib.evaluation import MulticlassMetrics\n",
    "\n",
    "predict = model_fit.transform(test)\n"
   ]
  },
  {
   "cell_type": "code",
   "execution_count": 255,
   "metadata": {},
   "outputs": [],
   "source": [
    "pred_after = predict.toPandas()['prediction']\n",
    "pred_before = test_set.toPandas()['species string_indexed']"
   ]
  },
  {
   "cell_type": "code",
   "execution_count": 256,
   "metadata": {},
   "outputs": [
    {
     "data": {
      "text/plain": [
       "100.0"
      ]
     },
     "execution_count": 256,
     "metadata": {},
     "output_type": "execute_result"
    }
   ],
   "source": [
    "count = 0\n",
    "for i,j in zip(pred_before, pred_after):\n",
    "    if i==j:\n",
    "        count+=1\n",
    "accuracy = (count/len(pred_after))*100\n",
    "accuracy"
   ]
  },
  {
   "cell_type": "code",
   "execution_count": 243,
   "metadata": {},
   "outputs": [
    {
     "data": {
      "text/plain": [
       "0.0    34\n",
       "1.0    19\n",
       "2.0    15\n",
       "Name: prediction, dtype: int64"
      ]
     },
     "execution_count": 243,
     "metadata": {},
     "output_type": "execute_result"
    }
   ],
   "source": [
    "predict.toPandas()['prediction'].value_counts()"
   ]
  },
  {
   "cell_type": "code",
   "execution_count": 244,
   "metadata": {},
   "outputs": [
    {
     "data": {
      "text/html": [
       "<div>\n",
       "<style scoped>\n",
       "    .dataframe tbody tr th:only-of-type {\n",
       "        vertical-align: middle;\n",
       "    }\n",
       "\n",
       "    .dataframe tbody tr th {\n",
       "        vertical-align: top;\n",
       "    }\n",
       "\n",
       "    .dataframe thead th {\n",
       "        text-align: right;\n",
       "    }\n",
       "</style>\n",
       "<table border=\"1\" class=\"dataframe\">\n",
       "  <thead>\n",
       "    <tr style=\"text-align: right;\">\n",
       "      <th></th>\n",
       "      <th>island onehot_enc</th>\n",
       "      <th>sex onehot_enc</th>\n",
       "      <th>culmen_length_mm_scaled</th>\n",
       "      <th>culmen_depth_mm_scaled</th>\n",
       "      <th>flipper_length_mm_scaled</th>\n",
       "      <th>body_mass_g_scaled</th>\n",
       "    </tr>\n",
       "  </thead>\n",
       "  <tbody>\n",
       "    <tr>\n",
       "      <th>0</th>\n",
       "      <td>(1.0, 0.0)</td>\n",
       "      <td>(0.0, 1.0)</td>\n",
       "      <td>[6.684343208491507]</td>\n",
       "      <td>[8.43534758882998]</td>\n",
       "      <td>[12.908125711278174]</td>\n",
       "      <td>[3.5410935175610545]</td>\n",
       "    </tr>\n",
       "    <tr>\n",
       "      <th>1</th>\n",
       "      <td>(1.0, 0.0)</td>\n",
       "      <td>(1.0, 0.0)</td>\n",
       "      <td>[6.8857888887611605]</td>\n",
       "      <td>[9.705731232652996]</td>\n",
       "      <td>[13.835228662916938]</td>\n",
       "      <td>[4.65933357573823]</td>\n",
       "    </tr>\n",
       "    <tr>\n",
       "      <th>2</th>\n",
       "      <td>(1.0, 0.0)</td>\n",
       "      <td>(1.0, 0.0)</td>\n",
       "      <td>[6.995668922304787]</td>\n",
       "      <td>[10.163069150584121]</td>\n",
       "      <td>[13.549966216258857]</td>\n",
       "      <td>[4.845706918767759]</td>\n",
       "    </tr>\n",
       "    <tr>\n",
       "      <th>3</th>\n",
       "      <td>(1.0, 0.0)</td>\n",
       "      <td>(0.0, 1.0)</td>\n",
       "      <td>[7.142174935100514]</td>\n",
       "      <td>[8.892685506761106]</td>\n",
       "      <td>[13.264703769600777]</td>\n",
       "      <td>[4.410835785032191]</td>\n",
       "    </tr>\n",
       "    <tr>\n",
       "      <th>4</th>\n",
       "      <td>(1.0, 0.0)</td>\n",
       "      <td>(0.0, 1.0)</td>\n",
       "      <td>[7.2703679582701914]</td>\n",
       "      <td>[8.994316585957268]</td>\n",
       "      <td>[13.763913051252418]</td>\n",
       "      <td>[3.9759646512966227]</td>\n",
       "    </tr>\n",
       "    <tr>\n",
       "      <th>...</th>\n",
       "      <td>...</td>\n",
       "      <td>...</td>\n",
       "      <td>...</td>\n",
       "      <td>...</td>\n",
       "      <td>...</td>\n",
       "      <td>...</td>\n",
       "    </tr>\n",
       "    <tr>\n",
       "      <th>63</th>\n",
       "      <td>(1.0, 0.0)</td>\n",
       "      <td>(1.0, 0.0)</td>\n",
       "      <td>[9.120007854332272]</td>\n",
       "      <td>[8.079639780869215]</td>\n",
       "      <td>[16.33127507117515]</td>\n",
       "      <td>[7.392809273504658]</td>\n",
       "    </tr>\n",
       "    <tr>\n",
       "      <th>64</th>\n",
       "      <td>(1.0, 0.0)</td>\n",
       "      <td>(1.0, 0.0)</td>\n",
       "      <td>[9.120007854332272]</td>\n",
       "      <td>[8.53697769880034]</td>\n",
       "      <td>[16.40259068283967]</td>\n",
       "      <td>[7.082187035122109]</td>\n",
       "    </tr>\n",
       "    <tr>\n",
       "      <th>65</th>\n",
       "      <td>(1.0, 0.0)</td>\n",
       "      <td>(1.0, 0.0)</td>\n",
       "      <td>[9.138321542554095]</td>\n",
       "      <td>[8.181270860065379]</td>\n",
       "      <td>[15.190225284542825]</td>\n",
       "      <td>[6.709440349063051]</td>\n",
       "    </tr>\n",
       "    <tr>\n",
       "      <th>66</th>\n",
       "      <td>(1.0, 0.0)</td>\n",
       "      <td>(0.0, 1.0)</td>\n",
       "      <td>[9.248200877501949]</td>\n",
       "      <td>[7.723932457521352]</td>\n",
       "      <td>[15.404172119536385]</td>\n",
       "      <td>[6.212444767650973]</td>\n",
       "    </tr>\n",
       "    <tr>\n",
       "      <th>67</th>\n",
       "      <td>(1.0, 0.0)</td>\n",
       "      <td>(1.0, 0.0)</td>\n",
       "      <td>[9.248200877501949]</td>\n",
       "      <td>[8.079639780869215]</td>\n",
       "      <td>[16.04601262451707]</td>\n",
       "      <td>[6.709440349063051]</td>\n",
       "    </tr>\n",
       "  </tbody>\n",
       "</table>\n",
       "<p>68 rows × 6 columns</p>\n",
       "</div>"
      ],
      "text/plain": [
       "   island onehot_enc sex onehot_enc culmen_length_mm_scaled  \\\n",
       "0         (1.0, 0.0)     (0.0, 1.0)     [6.684343208491507]   \n",
       "1         (1.0, 0.0)     (1.0, 0.0)    [6.8857888887611605]   \n",
       "2         (1.0, 0.0)     (1.0, 0.0)     [6.995668922304787]   \n",
       "3         (1.0, 0.0)     (0.0, 1.0)     [7.142174935100514]   \n",
       "4         (1.0, 0.0)     (0.0, 1.0)    [7.2703679582701914]   \n",
       "..               ...            ...                     ...   \n",
       "63        (1.0, 0.0)     (1.0, 0.0)     [9.120007854332272]   \n",
       "64        (1.0, 0.0)     (1.0, 0.0)     [9.120007854332272]   \n",
       "65        (1.0, 0.0)     (1.0, 0.0)     [9.138321542554095]   \n",
       "66        (1.0, 0.0)     (0.0, 1.0)     [9.248200877501949]   \n",
       "67        (1.0, 0.0)     (1.0, 0.0)     [9.248200877501949]   \n",
       "\n",
       "   culmen_depth_mm_scaled flipper_length_mm_scaled    body_mass_g_scaled  \n",
       "0      [8.43534758882998]     [12.908125711278174]  [3.5410935175610545]  \n",
       "1     [9.705731232652996]     [13.835228662916938]    [4.65933357573823]  \n",
       "2    [10.163069150584121]     [13.549966216258857]   [4.845706918767759]  \n",
       "3     [8.892685506761106]     [13.264703769600777]   [4.410835785032191]  \n",
       "4     [8.994316585957268]     [13.763913051252418]  [3.9759646512966227]  \n",
       "..                    ...                      ...                   ...  \n",
       "63    [8.079639780869215]      [16.33127507117515]   [7.392809273504658]  \n",
       "64     [8.53697769880034]      [16.40259068283967]   [7.082187035122109]  \n",
       "65    [8.181270860065379]     [15.190225284542825]   [6.709440349063051]  \n",
       "66    [7.723932457521352]     [15.404172119536385]   [6.212444767650973]  \n",
       "67    [8.079639780869215]      [16.04601262451707]   [6.709440349063051]  \n",
       "\n",
       "[68 rows x 6 columns]"
      ]
     },
     "execution_count": 244,
     "metadata": {},
     "output_type": "execute_result"
    }
   ],
   "source": [
    "test.toPandas()"
   ]
  },
  {
   "cell_type": "code",
   "execution_count": null,
   "metadata": {},
   "outputs": [],
   "source": [
    "evaluator= BCE(labelCol = \"\", rawPredictionCol=\"probability\", metricName= \"areaUnderROC\")\n",
    "accuracy = evaluator.evaluate(predict)"
   ]
  }
 ],
 "metadata": {
  "interpreter": {
   "hash": "4acaa4cadfbea252319417d011d4c2a64c0b873a89b23df257bc8dc3b3c6ce19"
  },
  "kernelspec": {
   "display_name": "Python 3.8.8 ('base')",
   "language": "python",
   "name": "python3"
  },
  "language_info": {
   "codemirror_mode": {
    "name": "ipython",
    "version": 3
   },
   "file_extension": ".py",
   "mimetype": "text/x-python",
   "name": "python",
   "nbconvert_exporter": "python",
   "pygments_lexer": "ipython3",
   "version": "3.8.8"
  },
  "orig_nbformat": 4
 },
 "nbformat": 4,
 "nbformat_minor": 2
}
